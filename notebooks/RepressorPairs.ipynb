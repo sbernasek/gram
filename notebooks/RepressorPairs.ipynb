{
 "cells": [
  {
   "cell_type": "code",
   "execution_count": 1,
   "metadata": {},
   "outputs": [],
   "source": [
    "%matplotlib inline"
   ]
  },
  {
   "cell_type": "markdown",
   "metadata": {},
   "source": [
    "# Pairs of Repressors\n",
    "\n",
    "In this notebook we will evaluate the change in protein expression dynamics and the frequency of developmental errors induced by losing one of two repressors. Each pair of repressors will be drawn combinatorially from a collection of repressors acting to downregulate the target gene's transcription, transcript stability, and protein stability. We will then visualize the resultant change in developmental error frequency under a range of different biosynthesis conditions. The resultant figure panels will be analogous to those labeled Figs. 4G, 7A, and S2H in our manuscript."
   ]
  },
  {
   "cell_type": "markdown",
   "metadata": {},
   "source": [
    "### Setting up and running the simulation"
   ]
  },
  {
   "cell_type": "markdown",
   "metadata": {},
   "source": [
    "First we must import both a `LinearModel` and a `ConditionSimulation` object from the `gram` package."
   ]
  },
  {
   "cell_type": "code",
   "execution_count": 1,
   "metadata": {},
   "outputs": [],
   "source": [
    "from gram.models.linear import LinearModel\n",
    "from gram.simulation.environment import ConditionSimulation"
   ]
  },
  {
   "cell_type": "markdown",
   "metadata": {},
   "source": [
    "Next we need to define the feedback strengths for each repressor. These are equivalent to $\\eta_1$, $\\eta_2$, and $\\eta_3$ as defined in the manuscript."
   ]
  },
  {
   "cell_type": "code",
   "execution_count": 2,
   "metadata": {},
   "outputs": [],
   "source": [
    "eta = (5e-4, 1e-4, 5e-4)"
   ]
  },
  {
   "cell_type": "markdown",
   "metadata": {},
   "source": [
    "We then perform a nested iteration over this ($\\eta_1$, $\\eta_2$, $\\eta_3$) tuple, constructing a model and performing a `ConditionSimulation` for each pair of repressors. As we are only interested in evaluating the error frequencies, we will discard the simulated dynamics and only keep the `simulation.comparisons` instance for each simulation. Note that with $N=5000$ trajectories per condition, this can take a while. We have provided a completed set of simulations in case you wish to skip this step."
   ]
  },
  {
   "cell_type": "code",
   "execution_count": null,
   "metadata": {},
   "outputs": [],
   "source": [
    "# iterate over pairs of repressors\n",
    "comparisons = {}\n",
    "for i in range(3):\n",
    "    for j in range(3):\n",
    "\n",
    "        # define feedback strengths\n",
    "        permanent = [0, 0, 0]\n",
    "        permanent[i] = eta[i]\n",
    "        removed = [0, 0, 0]\n",
    "        removed[j] = eta[j]\n",
    "\n",
    "        # define model\n",
    "        model = LinearModel(g1=0.01, g2=0.001)\n",
    "        model.add_feedback(*permanent)\n",
    "        model.add_feedback(*removed, perturbed=True)\n",
    "\n",
    "        # run simulation and save comparisons\n",
    "        simulation = ConditionSimulation(model)\n",
    "        simulation.run(skwargs=dict(N=5000))\n",
    "        comparisons[(i, j)] = simulation.comparisons"
   ]
  },
  {
   "cell_type": "markdown",
   "metadata": {},
   "source": [
    "We can quickly save these results for future use using `pickle`."
   ]
  },
  {
   "cell_type": "code",
   "execution_count": null,
   "metadata": {},
   "outputs": [],
   "source": [
    "import pickle\n",
    "with open('./comparisons.pkl', 'wb') as file:\n",
    "    pickle.dump(comparisons, file)"
   ]
  },
  {
   "cell_type": "markdown",
   "metadata": {},
   "source": [
    "### Generating the figure"
   ]
  },
  {
   "cell_type": "markdown",
   "metadata": {},
   "source": [
    "We will load the simulation results by unpickling our `comparisons` object. A set of completed simulations have been  provided in the `data/` directory."
   ]
  },
  {
   "cell_type": "code",
   "execution_count": 10,
   "metadata": {},
   "outputs": [],
   "source": [
    "import pickle\n",
    "path = '../data/simulations/repressor_pairs/comparisons.pkl'\n",
    "with open(path, 'rb') as file:\n",
    "    comparisons = pickle.load(file)"
   ]
  },
  {
   "cell_type": "markdown",
   "metadata": {},
   "source": [
    "We will now parse the results into a dictionary containing 3x3 grids for each set of metabolic conditions. Each position in the grid will contain a `threshold_error` - that is the error frequency evaluated for the pair of repressors denoted by that position in the grid.\n",
    "\n",
    "Note that `gram` uses shorthand notation for each of the metabolic conditions. Specifically:\n",
    "\n",
    "  * 'normal': normal metabolism\n",
    "  * 'diabetic': reduced energy metabolism\n",
    "  * 'minute': reduced protein synthesis\n",
    "  * 'carbon_limited': reduced RNA/protein synthesis"
   ]
  },
  {
   "cell_type": "code",
   "execution_count": 12,
   "metadata": {},
   "outputs": [],
   "source": [
    "import numpy as np\n",
    "matrices = {}\n",
    "for condition in ('normal', 'diabetic', 'minute', 'carbon_limited'):\n",
    "    matrix = np.zeros((3, 3), dtype=float)\n",
    "    for (i,j), comparison in comparisons.items():\n",
    "        matrix[i, j] = comparison[condition].threshold_error\n",
    "    matrices[condition] = matrix"
   ]
  },
  {
   "cell_type": "markdown",
   "metadata": {},
   "source": [
    "# Figures 4G, 7A, and S2H"
   ]
  },
  {
   "cell_type": "markdown",
   "metadata": {},
   "source": [
    "Finally, we can visualize the grids as heatmaps using `plt.imshow`."
   ]
  },
  {
   "cell_type": "code",
   "execution_count": 13,
   "metadata": {},
   "outputs": [
    {
     "data": {
      "image/png": "[encoded data removed]",
      "text/plain": [
       "<Figure size 864x216 with 4 Axes>"
      ]
     },
     "metadata": {},
     "output_type": "display_data"
    }
   ],
   "source": [
    "from gram.figures.settings import *\n",
    "import matplotlib.pyplot as plt\n",
    "\n",
    "fig, axes = plt.subplots(ncols=4, figsize=(12, 3))\n",
    "for i, (condition, matrix) in enumerate(matrices.items()):\n",
    "    axes[i].imshow(matrix.T, cmap=plt.cm.copper_r, vmin=0, vmax=1)\n",
    "    axes[i].set_title('{:s}'.format(condition.upper()))\n",
    "    axes[i].set_xlabel('First Repressor')\n",
    "    axes[i].set_ylabel('Second Repressor')\n",
    "    axes[i].set_xticks([])\n",
    "    axes[i].set_yticks([])"
   ]
  }
 ],
 "metadata": {
  "kernelspec": {
   "display_name": "metabolism",
   "language": "python",
   "name": "metabolism"
  },
  "language_info": {
   "codemirror_mode": {
    "name": "ipython",
    "version": 3
   },
   "file_extension": ".py",
   "mimetype": "text/x-python",
   "name": "python",
   "nbconvert_exporter": "python",
   "pygments_lexer": "ipython3",
   "version": "3.6.4"
  }
 },
 "nbformat": 4,
 "nbformat_minor": 2
}
