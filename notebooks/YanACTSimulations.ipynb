{
 "cells": [
  {
   "cell_type": "code",
   "execution_count": 1,
   "metadata": {},
   "outputs": [],
   "source": [
    "%matplotlib inline"
   ]
  },
  {
   "cell_type": "markdown",
   "metadata": {},
   "source": [
    "# Removing All Feedback\n",
    "\n",
    "In this notebook we will construct an example model and evaluate the frequency of developmental errors when all repression is lost. The resultant figure panels are analogous to those labeled Figs. 6A and 6B in our manuscript."
   ]
  },
  {
   "cell_type": "markdown",
   "metadata": {},
   "source": [
    "### Setting up and running the simulation"
   ]
  },
  {
   "cell_type": "markdown",
   "metadata": {},
   "source": [
    "First we must import both a `LinearModel` and a `ConditionSimulation` object from the `gram` package."
   ]
  },
  {
   "cell_type": "code",
   "execution_count": 1,
   "metadata": {},
   "outputs": [],
   "source": [
    "from gram.models.linear import LinearModel\n",
    "from gram.simulation.environment import ConditionSimulation"
   ]
  },
  {
   "cell_type": "markdown",
   "metadata": {},
   "source": [
    "Next we need to define our model along with the feedback strengths for each repressor. These are equivalent to $\\eta_1$, $\\eta_2$, and $\\eta_3$ as defined in the manuscript. For our example model, we will assume a cell contains two of each repressor type, with all repressors subject to perturbation. "
   ]
  },
  {
   "cell_type": "code",
   "execution_count": 6,
   "metadata": {},
   "outputs": [],
   "source": [
    "eta = (5e-4, 1e-4, 5e-4)\n",
    "\n",
    "# define model (both sets of repressors marked as)\n",
    "model = LinearModel(g1=0.01, g2=0.001)\n",
    "model.add_feedback(*eta, perturbed=True)\n",
    "model.add_feedback(*eta, perturbed=True)"
   ]
  },
  {
   "cell_type": "markdown",
   "metadata": {},
   "source": [
    "We then use the `ConditionSimulation.run` method to run the simulation under each metabolic condition."
   ]
  },
  {
   "cell_type": "code",
   "execution_count": 4,
   "metadata": {},
   "outputs": [],
   "source": [
    "# run simulation\n",
    "simulation = ConditionSimulation(model)\n",
    "simulation.run(skwargs=dict(N=5000))"
   ]
  },
  {
   "cell_type": "markdown",
   "metadata": {},
   "source": [
    "### Generating the figure"
   ]
  },
  {
   "cell_type": "markdown",
   "metadata": {},
   "source": [
    "Upon completing a simulation, instances of `ConditionSimulation` acquire a `comparisons` attribute. This is a dictionary of `Comparison` objects keyed by metabolic condition. Each comparison object contains `reference` and `compared` attributes, which are `genessa.TimeSeries` instances containing the simulated dynamics before and after the repressors are removed. Error frequencies are accessible via the `Comparison.threshold_error` attribute.\n",
    "\n",
    "The function below will add a randomly sampled subset of trajectories simulated before and after the repressors are removed to a predefined axis."
   ]
  },
  {
   "cell_type": "code",
   "execution_count": 30,
   "metadata": {},
   "outputs": [],
   "source": [
    "import numpy as np\n",
    "import matplotlib.pyplot as plt\n",
    "\n",
    "def plot_trajectories(comparison, ax, N=10):\n",
    "    \"\"\" Plot <N> trajectories from each condition in <comparison> on <ax>. \"\"\"\n",
    "    \n",
    "    # plot <N> randomly selected trajectories before and after all repression is removed\n",
    "    ind = np.random.randint(0, comparison.reference.states.shape[0], N)\n",
    "    for trajectory in comparison.reference.states[ind, -1, :]:\n",
    "        ax.plot(comparison.t, trajectory, color='m', lw=0.5)\n",
    "    for trajectory in comparison.compared.states[ind, -1, :]:\n",
    "        ax.plot(comparison.t, trajectory, color='grey', lw=0.5)\n",
    "    \n",
    "    # format axis\n",
    "    ax.set_ylabel('Protein level')\n",
    "    ax.set_xlabel('Time (h)')\n",
    "    ax.set_xlim(-2, 50)"
   ]
  },
  {
   "cell_type": "markdown",
   "metadata": {},
   "source": [
    "# Fig. 6A"
   ]
  },
  {
   "cell_type": "code",
   "execution_count": 32,
   "metadata": {},
   "outputs": [
    {
     "name": "stdout",
     "output_type": "stream",
     "text": [
      "Error frequency: 99.00%\n"
     ]
    },
    {
     "data": {
      "image/png": "[encoded data removed]",
      "text/plain": [
       "<Figure size 144x90 with 1 Axes>"
      ]
     },
     "metadata": {
      "needs_background": "light"
     },
     "output_type": "display_data"
    }
   ],
   "source": [
    "# get comparison simulated under normal metabolic conditions\n",
    "comparison = simulation.comparisons['normal']\n",
    "\n",
    "# plot simulated dynamics\n",
    "fig_6A, ax = plt.subplots(figsize=(2., 1.25))\n",
    "ax.spines['top'].set_visible(False)\n",
    "ax.spines['right'].set_visible(False)\n",
    "ax.set_title('Normal metabolism')\n",
    "plot_trajectories(comparison, ax)\n",
    "\n",
    "# report error frequency\n",
    "print('Error frequency: {:2.2%}'.format(comparison.threshold_error))"
   ]
  },
  {
   "cell_type": "markdown",
   "metadata": {},
   "source": [
    "# Fig. 6B"
   ]
  },
  {
   "cell_type": "code",
   "execution_count": 33,
   "metadata": {},
   "outputs": [
    {
     "name": "stdout",
     "output_type": "stream",
     "text": [
      "Error frequency: 98.32%\n"
     ]
    },
    {
     "data": {
      "image/png": "[encoded data removed]",
      "text/plain": [
       "<Figure size 144x90 with 1 Axes>"
      ]
     },
     "metadata": {
      "needs_background": "light"
     },
     "output_type": "display_data"
    }
   ],
   "source": [
    "# get comparison simulated under slow metabolic conditions\n",
    "comparison = simulation.comparisons['diabetic']\n",
    "\n",
    "# plot simulated dynamics\n",
    "fig_6B, ax = plt.subplots(figsize=(2., 1.25))\n",
    "ax.spines['top'].set_visible(False)\n",
    "ax.spines['right'].set_visible(False)\n",
    "ax.set_title('Slow metabolism')\n",
    "plot_trajectories(comparison, ax)\n",
    "\n",
    "# report error frequency\n",
    "print('Error frequency: {:2.2%}'.format(comparison.threshold_error))"
   ]
  },
  {
   "cell_type": "markdown",
   "metadata": {},
   "source": [
    "In general, error frequencies remain high when the lost repressor is strong relative to both the retained repressors and intrinsic degradation kinetics, e.g. when $\\eta_{removed} >> (\\eta_{retained} + \\gamma)$"
   ]
  }
 ],
 "metadata": {
  "kernelspec": {
   "display_name": "metabolism",
   "language": "python",
   "name": "metabolism"
  },
  "language_info": {
   "codemirror_mode": {
    "name": "ipython",
    "version": 3
   },
   "file_extension": ".py",
   "mimetype": "text/x-python",
   "name": "python",
   "nbconvert_exporter": "python",
   "pygments_lexer": "ipython3",
   "version": "3.6.4"
  }
 },
 "nbformat": 4,
 "nbformat_minor": 2
}
