{
 "cells": [
  {
   "cell_type": "code",
   "execution_count": 1,
   "metadata": {},
   "outputs": [],
   "source": [
    "%matplotlib inline"
   ]
  },
  {
   "cell_type": "markdown",
   "metadata": {},
   "source": [
    "# Yan Expression Dynamics\n",
    "\n",
    "In this notebook we will simulate Yan expression dynamics subject to repression acting upon both yan mRNA stability and Yan protein stability. We will then repeat the simulations when the repressor acting upon yan transcripts is removed. Both sets of simulations will then be repeated under conditions of reduced energy metabolism. The resultant figure panels will be analogous to those labeled Figs. 5A and 5B in our manuscript.\n",
    "\n",
    "Next, we will use the `flyeye` package to measure Yan expression in vivo and plot the measured expression dynamics. These measurements are equivalent to Figs. 5C and 5D in our manuscript."
   ]
  },
  {
   "cell_type": "markdown",
   "metadata": {},
   "source": [
    "## Simulated Dynamics"
   ]
  },
  {
   "cell_type": "markdown",
   "metadata": {},
   "source": [
    "### Simulating Yan expression dynamics\n",
    "\n",
    "First we need to import the `LinearModel` and `ConditionSimulation` objects from `gram`. We will define our `LinearModel` with transcript and protein degradation constants of $\\gamma_1 = 0.01\\ min^{-1}$ and $\\gamma_2 = 0.001\\ min^{-1}$.\n",
    "\n",
    "We will then add a post-translational repressor with feedback strength $\\eta_3 = 5x10^{-4}\\ min^{-1}$, followed by a post-transcriptional repressor with feedback strength $\\eta_2 = 1x10^{-4}\\ min^{-1}$. For the latter, we set the `perturbation=True` in order to mark the repressor as sensitive to perturbation."
   ]
  },
  {
   "cell_type": "code",
   "execution_count": 43,
   "metadata": {},
   "outputs": [],
   "source": [
    "from gram.models.linear import LinearModel\n",
    "from gram.simulation.environment import ConditionSimulation\n",
    "\n",
    "# define linear model\n",
    "model = LinearModel(g1=0.01, g2=0.001)\n",
    "model.add_feedback(0, 0, 5e-4)\n",
    "model.add_feedback(0, 1e-4, 0, perturbed=True)\n",
    "\n",
    "simulation = ConditionSimulation(model, dt=1., pulse_start=0, simulation_duration=100)\n",
    "simulation.run(skwargs=dict(N=10))"
   ]
  },
  {
   "cell_type": "markdown",
   "metadata": {},
   "source": [
    "### Plotting simulated dynamics"
   ]
  },
  {
   "cell_type": "markdown",
   "metadata": {},
   "source": [
    "The `simulation.dynamics` attribute is a dictionary of tuples containing two `genessa.timeseries` instances for each metabolic condition. The first instance contains the  dynamics simulated with both repressors (wildtype), while the second instance contains the dynamics simulated with one of the repressors removed (mutant). We will define a simple plotting function to help visualize the dynamics simulated under each of these conditions."
   ]
  },
  {
   "cell_type": "code",
   "execution_count": 44,
   "metadata": {},
   "outputs": [],
   "source": [
    "from gram.figures.settings import *\n",
    "import matplotlib.pyplot as plt\n",
    "import numpy as np\n",
    "\n",
    "def plot_trajectories(dynamics, condition, ax):\n",
    "    \"\"\" Plot protein expression dynamics of wildtype and mutant raised under <condition> on <ax>. \"\"\"\n",
    "    \n",
    "    # define line colors\n",
    "    wt_color = np.array([102, 194, 165])/(2**8)\n",
    "    mutant_color = np.array([252, 141, 97])/(2**8)\n",
    "    \n",
    "    # get dynamics\n",
    "    wildtype, mutant = dynamics[condition]\n",
    "\n",
    "    for trajectory in wildtype.states[:, -1, :]:\n",
    "        ax.plot(wildtype.t, trajectory, color=wt_color, lw=0.5)\n",
    "        \n",
    "    for trajectory in mutant.states[:, -1, :]:\n",
    "        ax.plot(mutant.t, trajectory, color=mutant_color, lw=0.5)\n",
    "    \n",
    "    # format axis\n",
    "    ax.spines['top'].set_visible(False)\n",
    "    ax.spines['right'].set_visible(False)"
   ]
  },
  {
   "cell_type": "markdown",
   "metadata": {},
   "source": [
    "Finally, we can use our `plot_trajectories` function to plot the dynamics simulated under each condition."
   ]
  },
  {
   "cell_type": "markdown",
   "metadata": {},
   "source": [
    "### Fig. 5A (normal metabolism)"
   ]
  },
  {
   "cell_type": "code",
   "execution_count": 45,
   "metadata": {},
   "outputs": [
    {
     "data": {
      "image/png": "[encoded data removed]",
      "text/plain": [
       "<Figure size 144x90 with 1 Axes>"
      ]
     },
     "metadata": {
      "needs_background": "light"
     },
     "output_type": "display_data"
    }
   ],
   "source": [
    "figsize = (2., 1.25)\n",
    "fig_5A, ax = plt.subplots(figsize=figsize)\n",
    "plot_trajectories(simulation.dynamics, 'normal', ax)\n",
    "ax.set_xlim(-2, 55)\n",
    "_ = ax.set_xticks(np.arange(0,55,10))\n",
    "_ = ax.set_ylim(0, 18000)\n",
    "_ = ax.set_yticks(np.arange(0,18000,4000))\n",
    "_ = ax.set_yticklabels(['{:d}'.format(int(x)) for x in np.arange(0, 18, 4)])"
   ]
  },
  {
   "cell_type": "markdown",
   "metadata": {},
   "source": [
    "### Fig. 5B (low energy metabolism)"
   ]
  },
  {
   "cell_type": "code",
   "execution_count": 46,
   "metadata": {},
   "outputs": [
    {
     "data": {
      "image/png": "[encoded data removed]",
      "text/plain": [
       "<Figure size 198x90 with 1 Axes>"
      ]
     },
     "metadata": {
      "needs_background": "light"
     },
     "output_type": "display_data"
    }
   ],
   "source": [
    "figsize = (2.75, 1.25)\n",
    "fig_5B, ax = plt.subplots(figsize=figsize)\n",
    "plot_trajectories(simulation.dynamics, 'diabetic', ax)\n",
    "ax.set_xlim(-3, 75)\n",
    "_ = ax.set_xticks(np.arange(0,75,10))\n",
    "_ = ax.set_ylim(0, 6500)\n",
    "_ = ax.set_yticks(np.arange(0, 6500, 1000))\n",
    "_ = ax.set_yticklabels(['{:d}'.format(int(x)) for x in np.arange(6.5)])"
   ]
  },
  {
   "cell_type": "markdown",
   "metadata": {},
   "source": [
    "## Measured Dynamics"
   ]
  },
  {
   "cell_type": "markdown",
   "metadata": {},
   "source": [
    "Now we will use the `flyeye` package to measure Yan expression in vivo. We have provided fully segmented and annotated $YanYFP$ and $Yan^{\\Delta miR7}YFP$ eye discs in `.silhouette` format in the `/data/measurements` directory. The `/normal` subdirectory contains eye discs raised under normal conditions, while the `/ipc_ablated` subdirectory contains eye discs subject to IPC ablation. Within each of those subdirectories, `wildtype` contains $YanYFP$ discs while `miR7_null` contains $Yan^{\\Delta miR7}YFP$ discs.\n",
    "\n",
    "Note that we must increase the default `furrow_velocity` parameter by 70% to account for delayed development under conditions of reduced energy metabolism."
   ]
  },
  {
   "cell_type": "code",
   "execution_count": 2,
   "metadata": {},
   "outputs": [],
   "source": [
    "import numpy as np\n",
    "from flyeye.data import experiments\n",
    "\n",
    "# load data\n",
    "kwargs = dict(normalization='red')\n",
    "normal_wildtype = experiments.Experiment('../data/measurements/normal/wildtype/')\n",
    "normal_mutant = experiments.Experiment('../data/measurements/normal/mir7_null//')\n",
    "slow_wildtype = experiments.Experiment('../data/measurements/ipc_ablated/wildtype/', furrow_velocity=1.7*2.)\n",
    "slow_mutant = experiments.Experiment('../data/measurements/ipc_ablated/mir7_null/', furrow_velocity=1.7*2.)"
   ]
  },
  {
   "cell_type": "markdown",
   "metadata": {},
   "source": [
    "Next we will use the `alignment.MultiExperimentAlignment` object from `flyeye` to align the experiments in time. The alignment is performed by maximizing the cross correlation between YanYFP trajectories."
   ]
  },
  {
   "cell_type": "code",
   "execution_count": 3,
   "metadata": {},
   "outputs": [],
   "source": [
    "from flyeye.processing.alignment import MultiExperimentAlignment\n",
    "\n",
    "# align experiments under normal conditions\n",
    "alignment = MultiExperimentAlignment(normal_wildtype, normal_mutant)\n",
    "normal_wildtype, normal_mutant = alignment.get_aligned_experiments()\n",
    "\n",
    "# align experiments under conditions of reduced energy metabolism\n",
    "alignment = MultiExperimentAlignment(slow_wildtype, slow_mutant)\n",
    "slow_wildtype, slow_mutant = alignment.get_aligned_experiments()"
   ]
  },
  {
   "cell_type": "markdown",
   "metadata": {},
   "source": [
    "By default, `flyeye` defines `t=0` as the time of the first R8 cell in the first disc. Our simulations assume `t=0` falls at the point of YanYFP induction, so let's use the `disc.apply_lag` method to shift all of our samples. This operation is only for ease of comparison, it does not affect any results."
   ]
  },
  {
   "cell_type": "code",
   "execution_count": 4,
   "metadata": {},
   "outputs": [],
   "source": [
    "normal_wildtype.apply_lag(10)\n",
    "normal_mutant.apply_lag(10)\n",
    "slow_wildtype.apply_lag(20)\n",
    "slow_mutant.apply_lag(20)"
   ]
  },
  {
   "cell_type": "markdown",
   "metadata": {},
   "source": [
    "We can print a quick summary of the available data."
   ]
  },
  {
   "cell_type": "code",
   "execution_count": 5,
   "metadata": {},
   "outputs": [
    {
     "name": "stdout",
     "output_type": "stream",
     "text": [
      "Normal Metabolism, wildtype: 5 discs and 4518 precursors\n",
      "Normal Metabolism, mutant: 7 discs and 5382 precursors\n",
      "Slow Metabolism, wildtype: 4 discs and 4379 precursors\n",
      "Slow Metabolism, mutant: 7 discs and 6716 precursors\n"
     ]
    }
   ],
   "source": [
    "print('Normal Metabolism, wildtype: {:d} discs and {:d} precursors'.format(normal_wildtype.num_discs, normal_wildtype.num_progenitors))\n",
    "print('Normal Metabolism, mutant: {:d} discs and {:d} precursors'.format(normal_mutant.num_discs, normal_mutant.num_progenitors))\n",
    "print('Slow Metabolism, wildtype: {:d} discs and {:d} precursors'.format(slow_wildtype.num_discs, slow_wildtype.num_progenitors))\n",
    "print('Slow Metabolism, mutant: {:d} discs and {:d} precursors'.format(slow_mutant.num_discs, slow_mutant.num_progenitors))"
   ]
  },
  {
   "cell_type": "markdown",
   "metadata": {},
   "source": [
    "Now we will define our green/orange colorscheme for the $YanYFP$ (wildtype) and $Yan^{\\Delta miR7}YFP$ (mutant) samples."
   ]
  },
  {
   "cell_type": "code",
   "execution_count": 6,
   "metadata": {},
   "outputs": [],
   "source": [
    "# define colorscheme for wildtype/mutant\n",
    "wildtype_color = np.array([102, 194, 165])/(2**8)\n",
    "mutant_color = np.array([252, 141, 97])/(2**8)"
   ]
  },
  {
   "cell_type": "markdown",
   "metadata": {},
   "source": [
    "Finally, we can aggregate the progenitors across each disc and plot the corresponding YanYFP expression pattern. We'll define a helper function to carry out the plotting. For figures 5C and 5D in our manuscript, we evaluate confidence intervals for the moving average of YanYFP expression by bootstrap resampling entire discs then subsampling the cells within them. This operation can be achieved using the `plot_resampled_moving_average` function below, but please note that can be quite time consuming. We've provided the much faster `plot_moving_average` interval construction method for convenience, but it will produce a narrower intervals than those presented in our manuscript because it neglects variation between samples."
   ]
  },
  {
   "cell_type": "code",
   "execution_count": 15,
   "metadata": {},
   "outputs": [],
   "source": [
    "import matplotlib.pyplot as plt\n",
    "\n",
    "def plot_moving_average(experiment, ax, color):\n",
    "    \"\"\" Plot moving average YanYFP expression among progenitors in <experiment> on <ax>. \"\"\"\n",
    "    line_kw = dict(window_size=500, resolution=1, color=color)\n",
    "    interval_kw = dict(window_size=500, resolution=25, color=color)\n",
    "    ma_kw = dict(ma_type='sliding')\n",
    "    progenitors = experiment.get_cells(cell_type='pre')\n",
    "    progenitors.plot_dynamics('green', ax=ax, interval=True, line_kw=line_kw, interval_kw=interval_kw, ma_kw=ma_kw)\n",
    "        \n",
    "def plot_resampled_moving_average(experiment, ax, color):\n",
    "    \"\"\" Plot moving average YanYFP expression among progenitors in <experiment> on <ax>. \"\"\"\n",
    "    line_kw = dict(color=color)\n",
    "    interval_kw = dict(color=color)\n",
    "    resampling_kw = dict(window_size=500, resolution=10, nbootstraps=1000)\n",
    "    progenitors = experiment.get_cells(cell_type='pre')    \n",
    "    progenitors.plot_resampled_dynamics('green', ax=ax, interval=True, line_kw=line_kw, interval_kw=interval_kw, resampling_kw=resampling_kw)"
   ]
  },
  {
   "cell_type": "markdown",
   "metadata": {},
   "source": [
    "### Fig. 5C"
   ]
  },
  {
   "cell_type": "code",
   "execution_count": 16,
   "metadata": {},
   "outputs": [
    {
     "data": {
      "text/plain": [
       "(0.2, 1.8)"
      ]
     },
     "execution_count": 16,
     "metadata": {},
     "output_type": "execute_result"
    },
    {
     "data": {
      "image/png": "[encoded data removed]",
      "text/plain": [
       "<Figure size 144x90 with 1 Axes>"
      ]
     },
     "metadata": {
      "needs_background": "light"
     },
     "output_type": "display_data"
    }
   ],
   "source": [
    "# plot moving average YanYFP level under normal growth conditions\n",
    "fig_5C, ax = plt.subplots(figsize=(2., 1.25))\n",
    "plot_resampled_moving_average(normal_wildtype, ax, wildtype_color)\n",
    "plot_resampled_moving_average(normal_mutant, ax, mutant_color)\n",
    "ax.set_xlabel('Time (h)')\n",
    "ax.set_ylabel('YanYFP level (a.u.)')\n",
    "ax.spines['top'].set_visible(False)\n",
    "ax.spines['right'].set_visible(False)\n",
    "ax.set_xlim(-10, 50)\n",
    "ax.set_ylim(0.2, 1.8)"
   ]
  },
  {
   "cell_type": "markdown",
   "metadata": {},
   "source": [
    "### Fig. 5D"
   ]
  },
  {
   "cell_type": "code",
   "execution_count": 17,
   "metadata": {},
   "outputs": [
    {
     "data": {
      "text/plain": [
       "(0.2, 1.8)"
      ]
     },
     "execution_count": 17,
     "metadata": {},
     "output_type": "execute_result"
    },
    {
     "data": {
      "image/png": "[encoded data removed]",
      "text/plain": [
       "<Figure size 198x90 with 1 Axes>"
      ]
     },
     "metadata": {
      "needs_background": "light"
     },
     "output_type": "display_data"
    }
   ],
   "source": [
    "# plot moving average YanYFP level under conditions of reduced energy metabolism\n",
    "fig_5D, ax = plt.subplots(figsize=(2.75, 1.25))\n",
    "plot_resampled_moving_average(slow_wildtype, ax, wildtype_color)\n",
    "plot_resampled_moving_average(slow_mutant, ax, mutant_color)\n",
    "ax.set_xlabel('Time (h)')\n",
    "ax.set_ylabel('YanYFP level (a.u.)')\n",
    "ax.spines['top'].set_visible(False)\n",
    "ax.spines['right'].set_visible(False)\n",
    "ax.set_xlim(-20, 80)\n",
    "ax.set_ylim(0.2, 1.8)"
   ]
  }
 ],
 "metadata": {
  "kernelspec": {
   "display_name": "metabolism",
   "language": "python",
   "name": "metabolism"
  },
  "language_info": {
   "codemirror_mode": {
    "name": "ipython",
    "version": 3
   },
   "file_extension": ".py",
   "mimetype": "text/x-python",
   "name": "python",
   "nbconvert_exporter": "python",
   "pygments_lexer": "ipython3",
   "version": "3.6.4"
  }
 },
 "nbformat": 4,
 "nbformat_minor": 2
}
